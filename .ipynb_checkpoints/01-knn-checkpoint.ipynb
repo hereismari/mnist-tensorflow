{
 "cells": [
  {
   "cell_type": "markdown",
   "metadata": {},
   "source": [
    "# 01 - KNN using L2 distance\n",
    "\n",
    "For this code, follow:\n",
    "\n",
    "* https://www.tensorflow.org/get_started/mnist/beginners : the section\n",
    "  about the mnist database\n",
    "* https://github.com/aymericdamien/TensorFlow-Examples/blob/master/notebooks/2_BasicModels/nearest_neighbor.ipynb\n",
    "* http://nbviewer.jupyter.org/github/temporaer/tutorial_ml_gkbionics/blob/master/2%20-%20KMeans.ipynb : the section about k-means on image\n"
   ]
  },
  {
   "cell_type": "markdown",
   "metadata": {},
   "source": [
    "## Getting the data\n",
    "\n",
    "Let's keep it simple, we won't linearly scales image to have zero mean and unit norm."
   ]
  },
  {
   "cell_type": "code",
   "execution_count": 94,
   "metadata": {
    "collapsed": true
   },
   "outputs": [],
   "source": [
    "# needed libraries\n",
    "import matplotlib.pyplot as plt\n",
    "import tensorflow as tf\n",
    "import numpy as np"
   ]
  },
  {
   "cell_type": "code",
   "execution_count": 224,
   "metadata": {
    "collapsed": false
   },
   "outputs": [
    {
     "name": "stdout",
     "output_type": "stream",
     "text": [
      "Extracting MNIST_data/train-images-idx3-ubyte.gz\n",
      "Extracting MNIST_data/train-labels-idx1-ubyte.gz\n",
      "Extracting MNIST_data/t10k-images-idx3-ubyte.gz\n",
      "Extracting MNIST_data/t10k-labels-idx1-ubyte.gz\n"
     ]
    }
   ],
   "source": [
    "from tensorflow.examples.tutorials.mnist import input_data\n",
    "\n",
    "# one_hot=True: flatten this array into a vector of 28x28 = 784 numbers\n",
    "# mnist.train = 55,000 input data\n",
    "# mnist.test = 10,000 input data\n",
    "# mnist.validate = 5,000 input data\n",
    "mnist = input_data.read_data_sets(\"MNIST_data/\", one_hot=True) \n",
    "\n",
    "# to make it simpler let's limit the train and test data set\n",
    "# train: 2000 input data\n",
    "# test: 500 input data\n",
    "train_x, train_y = mnist.train.next_batch(2000)\n",
    "test_x, test_y = mnist.test.next_batch(500)"
   ]
  },
  {
   "cell_type": "markdown",
   "metadata": {},
   "source": [
    "Let's look at a few examples from the train dataset"
   ]
  },
  {
   "cell_type": "code",
   "execution_count": 228,
   "metadata": {
    "collapsed": false
   },
   "outputs": [
    {
     "data": {
      "image/png": "[encoded data removed]",
      "text/plain": [
       "<matplotlib.figure.Figure at 0x7f4b821cf710>"
      ]
     },
     "metadata": {},
     "output_type": "display_data"
    }
   ],
   "source": [
    "plt.rc(\"image\", cmap=\"binary\") # use black/white palette for plotting\n",
    "for i in xrange(10):\n",
    "    plt.subplot(2,5,i+1)\n",
    "    plt.imshow(train_x[i].reshape(28,28))\n",
    "    plt.xticks(())\n",
    "    plt.yticks(())\n",
    "plt.tight_layout()\n",
    "plt.show()"
   ]
  },
  {
   "cell_type": "markdown",
   "metadata": {},
   "source": [
    "## Implementing a simple KNN with Tensorflow\n",
    "\n",
    "Okay, so let's implement the KNN (I assume you understand how KNN works, if you don't please have a look at the references in the beginning of this file), we will have only a predict function, there's no train phase.\n",
    "\n",
    "In the code bellow k = 1."
   ]
  },
  {
   "cell_type": "code",
   "execution_count": 213,
   "metadata": {
    "collapsed": false
   },
   "outputs": [],
   "source": [
    "# number of neighboors\n",
    "K = 5\n",
    "\n",
    "# tf Graph Input\n",
    "ph_train = tf.placeholder(\"float\", [None, 784])\n",
    "ph_test = tf.placeholder(\"float\", [784])\n",
    "ph_train_y = tf.placeholder(\"float\", [None, 10])\n",
    "ph_indices = tf.placeholder(\"int32\", [K])\n",
    "\n",
    "# Calculate L2 Distance\n",
    "distance = tf.negative(tf.sqrt(tf.reduce_sum(tf.square(tf.add(ph_train, tf.negative(ph_test))), reduction_indices=1)))\n",
    " \n",
    "# Prediction: Get K min distance index (Nearest neighbor)\n",
    "pred_values_indices = tf.nn.top_k(distance, k=K, sorted=False)\n",
    "\n",
    "# Initializing the variables\n",
    "init = tf.global_variables_initializer()\n"
   ]
  },
  {
   "cell_type": "markdown",
   "metadata": {},
   "source": [
    "## Running the graph with TF"
   ]
  },
  {
   "cell_type": "code",
   "execution_count": 216,
   "metadata": {
    "collapsed": false
   },
   "outputs": [
    {
     "name": "stdout",
     "output_type": "stream",
     "text": [
      "Done!\n",
      "Accuracy: 88.2 %\n"
     ]
    }
   ],
   "source": [
    "correct_class = 0\n",
    "\n",
    "with tf.Session() as session:\n",
    "    \n",
    "    for i in range(len(test_x)):\n",
    "        values_indices = session.run(pred_values_indices,\n",
    "                                feed_dict={ph_train: train_x, ph_test: test_x[i, :]})\n",
    "        \n",
    "        # predicting label for test data\n",
    "        counter = np.zeros(10)   \n",
    "        for j in xrange(K):\n",
    "            counter[np.argmax(train_y[values_indices.indices[j]])] += 1\n",
    "\n",
    "        prediction = np.argmax(counter)\n",
    "        \n",
    "        #print 'Test %d, predicted: %d, true: %d' % (i, prediction,\n",
    "        #                                            np.argmax(test_y[i]))\n",
    "    \n",
    "        if prediction == np.argmax(test_y[i]):\n",
    "            correct_class += 1.0\n",
    "\n",
    "    print 'Done!'\n",
    "    print 'Accuracy:', (correct_class / len(test_x)) * 100, '%'"
   ]
  }
 ],
 "metadata": {
  "kernelspec": {
   "display_name": "Python 2",
   "language": "python",
   "name": "python2"
  },
  "language_info": {
   "codemirror_mode": {
    "name": "ipython",
    "version": 2
   },
   "file_extension": ".py",
   "mimetype": "text/x-python",
   "name": "python",
   "nbconvert_exporter": "python",
   "pygments_lexer": "ipython2",
   "version": "2.7.13"
  }
 },
 "nbformat": 4,
 "nbformat_minor": 2
}
